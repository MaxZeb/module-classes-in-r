{
 "cells": [
  {
   "cell_type": "code",
   "execution_count": 1,
   "metadata": {
    "autoscroll": false,
    "ein.hycell": false,
    "ein.tags": "worksheet-0",
    "slideshow": {
     "slide_type": "-"
    }
   },
   "outputs": [],
   "source": [
    "library(magrittr)\n",
    "library(MASS)"
   ]
  },
  {
   "cell_type": "markdown",
   "metadata": {
    "ein.tags": "worksheet-0",
    "slideshow": {
     "slide_type": "-"
    }
   },
   "source": [
    "## Refactoring\n",
    "\n",
    "Refactoring code is a very important concept in programming. To \"refactor\" means to change the implementation of some piece of code, without changing the functionality. \n",
    "\n",
    "If your goal with writing code is simply to \"get something to work\" (once), then refactoring is not useful. If, however, your goal is to write elegant code which can be used reliable, extended, and modified, then you will always need to refactor! "
   ]
  },
  {
   "cell_type": "code",
   "execution_count": 2,
   "metadata": {
    "autoscroll": false,
    "ein.hycell": false,
    "ein.tags": "worksheet-0",
    "slideshow": {
     "slide_type": "-"
    }
   },
   "outputs": [],
   "source": [
    "# We will refactor the code from the \"Functions in R\" lecture. \n",
    "\n",
    "# Using the ideas from the slides, make \"generate_data\" a polymorphic function.\n",
    "# It should operate on two classes: \"univariate_params\" and \"multivariate_params\"\n",
    "# and two separate \"methods\" should be implemented for each of the classes "
   ]
  },
  {
   "cell_type": "code",
   "execution_count": 35,
   "metadata": {
    "autoscroll": false,
    "ein.hycell": false,
    "ein.tags": "worksheet-0",
    "slideshow": {
     "slide_type": "slide"
    }
   },
   "outputs": [
    {
     "data": {
      "text/html": [
       "<table>\n",
       "<tbody>\n",
       "\t<tr><td>TRUE</td></tr>\n",
       "\t<tr><td>TRUE</td></tr>\n",
       "\t<tr><td>TRUE</td></tr>\n",
       "</tbody>\n",
       "</table>\n"
      ],
      "text/latex": [
       "\\begin{tabular}{l}\n",
       "\t TRUE\\\\\n",
       "\t TRUE\\\\\n",
       "\t TRUE\\\\\n",
       "\\end{tabular}\n"
      ],
      "text/markdown": [
       "\n",
       "| TRUE | \n",
       "| TRUE | \n",
       "| TRUE | \n",
       "\n",
       "\n"
      ],
      "text/plain": [
       "     [,1]\n",
       "[1,] TRUE\n",
       "[2,] TRUE\n",
       "[3,] TRUE"
      ]
     },
     "metadata": {},
     "output_type": "display_data"
    }
   ],
   "source": [
    "# The implementation of the class is up to you! So write the params class to\n",
    "# match your design. \n",
    "\n",
    "# beta should be c(1,2,1)\n",
    "# mean of X's should be c(0,0,0)\n",
    "# sd of X's should be c(.2,.5,.3)\n",
    "# noise sd should be .5\n",
    "\n",
    "generate_data <- function(params) UseMethod(\"generate_data\")\n",
    "generate_data.univariate_params <- function(params){\n",
    "    X <- rnorm(params$N, 0, 1)\n",
    "    eps <- rnorm(params$N, 0, params$noise)\n",
    "    y <- params$beta*X + eps\n",
    "    output <- list(X = X, y = y)\n",
    "    class(output) <- \"univariate_data\"\n",
    "    output\n",
    "}\n",
    "generate_data.multivariate_params <- function(params){\n",
    "    params1 <- cbind(params$mean, params$sd)\n",
    "    X <- cbind(apply(params1,1, function(p) rnorm(params$N, p[1],  p[2])))\n",
    "    eps <- rnorm(params$N, 0, params$noise)\n",
    "    y <- X %*% params$beta + eps\n",
    "    output <- list(X=X, y=y)\n",
    "    class(output) <- \"multivariate_data\"\n",
    "    output\n",
    "}\n",
    "\n",
    "calc_coef <- function(data) UseMethod(\"calc_coef\")\n",
    "calc_coef.univariate_data <- function(data) cov(data$X,data$y) / var(data$X)\n",
    "calc_coef.multivariate_data <- function(data) solve(t(data$X) %*% data$X, t(data$X) %*% data$y) \n",
    "\n",
    "calc_se <- function(data, coef) UseMethod(\"calc_se\")\n",
    "calc_se.univariate_data <- function(data, coef) {\n",
    "    n <- length(data$y)\n",
    "    eps <- data$y - data$X * coef\n",
    "    e_sd <- mean(eps^2)\n",
    "    se <- sqrt(e_sd / (n*var(data$X)))\n",
    "    se\n",
    "}\n",
    "calc_se.multivariate_data <- function(data, coef) {\n",
    "    eps <- data$y - data$X %*% coef\n",
    "    e_sd <- mean(eps^2)\n",
    "    sqrt(diag(e_sd * solve(t(data$X) %*% data$X)))\n",
    "}\n",
    "                     \n",
    "run_regression <- function(data){\n",
    "    coef <- calc_coef(data)\n",
    "    se <- calc_se(data, coef)\n",
    "    list(coef=coef,se=se)\n",
    "}             \n",
    "\n",
    "eval_model <- function(model, params, conf = 1.96) {\n",
    "    up <- model$coef + model$se * conf\n",
    "    down <- model$coef - model$se * conf\n",
    "    params$beta > down & params$beta < up\n",
    "}\n",
    "\n",
    "simulate <- function(params) {\n",
    "    d <- generate_data(params)\n",
    "    m <- run_regression(d)\n",
    "    eval_model(m, params)\n",
    "}\n",
    "\n",
    "avg_simulations <- function(M, params) {\n",
    "    inside <- sapply(1:M, function (x) simulate(params))\n",
    "    rowMeans(inside)\n",
    "}\n",
    "                     \n",
    "params_m <- list(mean=c(0,0,0),sd=c(.2,.5,.3),beta=c(1,2,1),noise=.5,N=100)\n",
    "class(params_m) <- \"multivariate_params\"\n",
    "data_m <- generate_data(params_m)\n",
    "params_u <- list(mean=c(0),sd=c(.2),beta=c(2),noise=.5,N=100)\n",
    "class(params_u) <- \"univariate_params\"\n",
    "data_u <- generate_data(params_u)\n",
    "model_m <- run_regression(data_m)\n",
    "#eval_model(model_m,params_m)\n",
    "simulate(params_m)\n",
    "# avg_simulations(10,params_m)"
   ]
  },
  {
   "cell_type": "code",
   "execution_count": 26,
   "metadata": {
    "autoscroll": false,
    "ein.hycell": false,
    "ein.tags": "worksheet-0",
    "slideshow": {
     "slide_type": "-"
    }
   },
   "outputs": [
    {
     "ename": "ERROR",
     "evalue": "Error in avg_simulations(1000, 20, params): could not find function \"avg_simulations\"\n",
     "output_type": "error",
     "traceback": [
      "Error in avg_simulations(1000, 20, params): could not find function \"avg_simulations\"\nTraceback:\n"
     ]
    }
   ],
   "source": [
    "a <- avg_simulations(1000, 20, params)\n",
    "stopifnot(round(a, 1) == .9)"
   ]
  },
  {
   "cell_type": "code",
   "execution_count": null,
   "metadata": {
    "autoscroll": false,
    "ein.hycell": false,
    "ein.tags": "worksheet-0",
    "slideshow": {
     "slide_type": "-"
    }
   },
   "outputs": [],
   "source": [
    "a <- avg_simulations(1000, 500, params)\n",
    "stopifnot(a > .92)"
   ]
  },
  {
   "cell_type": "code",
   "execution_count": null,
   "metadata": {
    "autoscroll": false,
    "ein.hycell": false,
    "ein.tags": "worksheet-0",
    "slideshow": {
     "slide_type": "-"
    }
   },
   "outputs": [],
   "source": [
    "\n",
    "\n",
    "\n",
    "\n",
    "\n",
    "\n",
    "\n",
    "\n",
    "\n",
    "\n",
    "\n",
    "# BONUS\n",
    "                     \n",
    "# The calc_coef and calc_se functions, in their multivariate form, are \n",
    "# naturally a generalization, and work for univariate data do. \n",
    "\n",
    "# But let's pretend they're not. \n",
    "\n",
    "# Write them as polymorphic functions, such that when you simulation gets called\n",
    "# with univariate data, the (from-the-slides) univariate formula gets called, \n",
    "# and the (from-your-exersizes) multivariate formula gets called when \n",
    "# multivariate parameters are given to the simulations. \n",
    "\n",
    "# Note: be creative in your design! Add more classes if you think it helps!\n",
    "# Think about which functions you want to be class-agnostic and which to be\n",
    "# class-aware! "
   ]
  }
 ],
 "metadata": {
  "kernelspec": {
   "display_name": "R",
   "language": "R",
   "name": "ir"
  },
  "language_info": {
   "codemirror_mode": "r",
   "file_extension": ".r",
   "mimetype": "text/x-r-source",
   "name": "R",
   "pygments_lexer": "r",
   "version": "3.4.1"
  },
  "name": "Untitled.ipynb"
 },
 "nbformat": 4,
 "nbformat_minor": 2
}
